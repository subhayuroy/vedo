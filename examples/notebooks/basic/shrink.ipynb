{
 "cells": [
  {
   "cell_type": "code",
   "execution_count": null,
   "metadata": {},
   "outputs": [],
   "source": [
    "\"\"\"Shrink the triangulation of a mesh to make the inside visible.\"\"\"\n",
    "\n",
    "from vedo import *\n",
    "embedWindow('ipyvtk') # or k3d or panel\n",
    "\n",
    "pot = load(datadir+\"teapot.vtk\").shrink(0.75)\n",
    "\n",
    "s = Sphere(r=0.2).pos(0, 0, -0.5)\n",
    "\n",
    "plt = show(pot, s, viewup='z')"
   ]
  },
  {
   "cell_type": "code",
   "execution_count": null,
   "metadata": {},
   "outputs": [],
   "source": [
    "plt.close()"
   ]
  }
 ],
 "metadata": {
  "kernelspec": {
   "display_name": "Python 3",
   "language": "python",
   "name": "python3"
  },
  "language_info": {
   "codemirror_mode": {
    "name": "ipython",
    "version": 3
   },
   "file_extension": ".py",
   "mimetype": "text/x-python",
   "name": "python",
   "nbconvert_exporter": "python",
   "pygments_lexer": "ipython3",
   "version": "3.7.4"
  }
 },
 "nbformat": 4,
 "nbformat_minor": 2
}
