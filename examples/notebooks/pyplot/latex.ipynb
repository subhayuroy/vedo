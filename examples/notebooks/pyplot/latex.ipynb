{
 "cells": [
  {
   "cell_type": "code",
   "execution_count": null,
   "metadata": {},
   "outputs": [],
   "source": [
    "from vedo import *\n",
    "embedWindow('2d')\n",
    "\n",
    "# https://matplotlib.org/tutorials/text/mathtext.html\n",
    "vp = Plotter(bg='white', axes=1)\n",
    "\n",
    "latex1 = r'x= \\frac{ - b \\pm \\sqrt {b^2 - 4ac} }{2a}'\n",
    "latex2 = r'\\mathcal{A}\\mathrm{sin}(2 \\omega t)'\n",
    "latex3 = r'I(Y | X)=\\sum_{x \\in \\mathcal{X}, y \\in \\mathcal{Y}} p(x, y) \\log \\left(\\frac{p(x)}{p(x, y)}\\right)'\n",
    "latex4 = r'\\Gamma_{\\epsilon}(x)=\\left[1-e^{-2 \\pi \\epsilon}\\right]^{1-x} \\prod_{n=0}^{\\infty} \\frac{1-\\exp (-2 \\pi \\epsilon(n+1))}{1-\\exp (-2 \\pi \\epsilon(x+n))}'\n",
    "latex5 = r'\\left( \\begin{array}{l}{c t^{\\prime}} \\\\ {x^{\\prime}} \\\\ {y^{\\prime}} \\\\ {z^{\\prime}}\\end{array}\\right)=\\left( \\begin{array}{cccc}{\\gamma} & {-\\gamma \\beta} & {0} & {0} \\\\ {-\\gamma \\beta} & {\\gamma} & {0} & {0} \\\\ {0} & {0} & {1} & {0} \\\\ {0} & {0} & {0} & {1}\\end{array}\\right) \\left( \\begin{array}{l}{c t} \\\\ {x} \\\\ {y} \\\\ {z}\\end{array}\\right)'\n",
    "latex6 = r'\\mathrm{CO}_{2}+6 \\mathrm{H}_{2} \\mathrm{O} \\rightarrow \\mathrm{C}_{6} \\mathrm{H}_{12} \\mathrm{O}_{6}+6 \\mathrm{O}_{2}'\n",
    "latex7 = r'x \\mathrm{(arb. units)}'\n",
    "\n",
    "l = Latex(latex4, s=1, c='b', bg='', alpha=0.9, usetex=False)\n",
    "l.crop(0.3, 0.3) # crop top and bottom 30%\n",
    "l.pos(2,0,0)\n",
    "\n",
    "p = Point()\n",
    "box = l.box() # return the bounding box of a mesh\n",
    "\n",
    "vp.show(p, l, box, zoom=1.2)"
   ]
  },
  {
   "cell_type": "code",
   "execution_count": null,
   "metadata": {},
   "outputs": [],
   "source": []
  }
 ],
 "metadata": {
  "kernelspec": {
   "display_name": "Python 3",
   "language": "python",
   "name": "python3"
  },
  "language_info": {
   "codemirror_mode": {
    "name": "ipython",
    "version": 3
   },
   "file_extension": ".py",
   "mimetype": "text/x-python",
   "name": "python",
   "nbconvert_exporter": "python",
   "pygments_lexer": "ipython3",
   "version": "3.7.6"
  }
 },
 "nbformat": 4,
 "nbformat_minor": 2
}
